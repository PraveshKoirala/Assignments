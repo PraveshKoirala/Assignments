{
 "cells": [
  {
   "cell_type": "markdown",
   "metadata": {},
   "source": [
    "# Calculating Entropies for a data set\n",
    "\n",
    "Calculating Entropies is a vital process in constructing a decision tree. In this script, we take a given csv data that contains the data for 12 restaurant goers and calculate entropies at each split of the decision tree. We won't be constructing a decision tree per se, but expanding upon this work to actually creating one is trivial."
   ]
  },
  {
   "cell_type": "code",
   "execution_count": 27,
   "metadata": {
    "collapsed": true
   },
   "outputs": [],
   "source": [
    "import pandas as pd\n",
    "import numpy as np"
   ]
  },
  {
   "cell_type": "code",
   "execution_count": 2,
   "metadata": {
    "collapsed": false
   },
   "outputs": [
    {
     "data": {
      "text/html": [
       "<div style=\"max-height:1000px;max-width:1500px;overflow:auto;\">\n",
       "<table border=\"1\" class=\"dataframe\">\n",
       "  <thead>\n",
       "    <tr style=\"text-align: right;\">\n",
       "      <th></th>\n",
       "      <th>Alt</th>\n",
       "      <th>Bar</th>\n",
       "      <th>Fri</th>\n",
       "      <th>Hun</th>\n",
       "      <th>Pat</th>\n",
       "      <th>Price</th>\n",
       "      <th>Rain</th>\n",
       "      <th>Res</th>\n",
       "      <th>Type</th>\n",
       "      <th>Est</th>\n",
       "      <th>Stay?</th>\n",
       "    </tr>\n",
       "  </thead>\n",
       "  <tbody>\n",
       "    <tr>\n",
       "      <th>0</th>\n",
       "      <td>yes</td>\n",
       "      <td>no</td>\n",
       "      <td>no</td>\n",
       "      <td>yes</td>\n",
       "      <td>some</td>\n",
       "      <td>3</td>\n",
       "      <td>no</td>\n",
       "      <td>yes</td>\n",
       "      <td>french</td>\n",
       "      <td>0-10</td>\n",
       "      <td>yes</td>\n",
       "    </tr>\n",
       "    <tr>\n",
       "      <th>1</th>\n",
       "      <td>yes</td>\n",
       "      <td>no</td>\n",
       "      <td>no</td>\n",
       "      <td>yes</td>\n",
       "      <td>full</td>\n",
       "      <td>1</td>\n",
       "      <td>no</td>\n",
       "      <td>no</td>\n",
       "      <td>thai</td>\n",
       "      <td>30-60</td>\n",
       "      <td>no</td>\n",
       "    </tr>\n",
       "    <tr>\n",
       "      <th>2</th>\n",
       "      <td>no</td>\n",
       "      <td>yes</td>\n",
       "      <td>no</td>\n",
       "      <td>no</td>\n",
       "      <td>some</td>\n",
       "      <td>1</td>\n",
       "      <td>no</td>\n",
       "      <td>no</td>\n",
       "      <td>burger</td>\n",
       "      <td>0-10</td>\n",
       "      <td>yes</td>\n",
       "    </tr>\n",
       "    <tr>\n",
       "      <th>3</th>\n",
       "      <td>yes</td>\n",
       "      <td>no</td>\n",
       "      <td>yes</td>\n",
       "      <td>yes</td>\n",
       "      <td>full</td>\n",
       "      <td>1</td>\n",
       "      <td>no</td>\n",
       "      <td>no</td>\n",
       "      <td>thai</td>\n",
       "      <td>O30</td>\n",
       "      <td>yes</td>\n",
       "    </tr>\n",
       "    <tr>\n",
       "      <th>4</th>\n",
       "      <td>yes</td>\n",
       "      <td>no</td>\n",
       "      <td>yes</td>\n",
       "      <td>no</td>\n",
       "      <td>full</td>\n",
       "      <td>3</td>\n",
       "      <td>no</td>\n",
       "      <td>yes</td>\n",
       "      <td>french</td>\n",
       "      <td>&gt;60</td>\n",
       "      <td>no</td>\n",
       "    </tr>\n",
       "  </tbody>\n",
       "</table>\n",
       "</div>"
      ],
      "text/plain": [
       "   Alt  Bar  Fri  Hun   Pat  Price Rain  Res    Type    Est Stay?\n",
       "0  yes   no   no  yes  some      3   no  yes  french   0-10   yes\n",
       "1  yes   no   no  yes  full      1   no   no    thai  30-60    no\n",
       "2   no  yes   no   no  some      1   no   no  burger   0-10   yes\n",
       "3  yes   no  yes  yes  full      1   no   no    thai    O30   yes\n",
       "4  yes   no  yes   no  full      3   no  yes  french    >60    no"
      ]
     },
     "execution_count": 2,
     "metadata": {},
     "output_type": "execute_result"
    }
   ],
   "source": [
    "data = pd.read_csv(\"entropy_data.csv\")\n",
    "data.head(5)"
   ]
  },
  {
   "cell_type": "markdown",
   "metadata": {},
   "source": [
    "As we can see, the decision variable here is the \"Stay?\" column. Rest are the attributes that contribute to the decision. We now write functions to calculate entropies for splits on each of the attributes and also a helper function to display those entropy tables."
   ]
  },
  {
   "cell_type": "code",
   "execution_count": 80,
   "metadata": {
    "collapsed": false
   },
   "outputs": [],
   "source": [
    "from collections import defaultdict\n",
    "from IPython.core.display import display, HTML\n",
    "\n",
    "def calculate_entropy(df):\n",
    "    tables = {}\n",
    "    for c in df.columns:\n",
    "        if c ==\"Stay?\": continue\n",
    "        col_vals = set(df[c])\n",
    "        entropy_dict = defaultdict(list)\n",
    "        # for each column values, there will be two fields, yes and no (for the Stay)\n",
    "        entropy = 0\n",
    "        for cv in col_vals:\n",
    "            yes = len(df[(df[c] == cv) & (df['Stay?']=='yes')])\n",
    "            \n",
    "            entropy_dict[cv].append(yes)\n",
    "            no = len(df[(df[c] == cv) & (df['Stay?']=='no')])\n",
    "            entropy_dict[cv].append(no)    \n",
    "            yes += 0.\n",
    "            no += 0.\n",
    "            entropy += (yes and yes * np.log2((yes+no)/yes) or 0) + (no and no * np.log2((yes+no)/no) or 0 )\n",
    "        entropy_dict['entropy'] = entropy\n",
    "        tables[c] = entropy_dict\n",
    "    return tables\n",
    "\n",
    "\n",
    "def display_entropy(data):\n",
    "    entropy = calculate_entropy(data)\n",
    "    for k in entropy.keys():\n",
    "        Entropy = entropy[k].pop('entropy')\n",
    "        display(HTML(\"<h3>%s</h3>\" % k ))\n",
    "        p = pd.DataFrame(entropy[k], index=['yes', 'no'])    \n",
    "        print p.T\n",
    "        print \"Entropy =\", Entropy\n",
    "        print\n",
    "        "
   ]
  },
  {
   "cell_type": "markdown",
   "metadata": {},
   "source": [
    "## First for the root"
   ]
  },
  {
   "cell_type": "code",
   "execution_count": 82,
   "metadata": {
    "collapsed": false
   },
   "outputs": [
    {
     "data": {
      "text/html": [
       "<h3>Est</h3>"
      ],
      "text/plain": [
       "<IPython.core.display.HTML object>"
      ]
     },
     "metadata": {},
     "output_type": "display_data"
    },
    {
     "name": "stdout",
     "output_type": "stream",
     "text": [
      "       yes  no\n",
      "0-10     4   2\n",
      "30-60    1   1\n",
      ">60      0   2\n",
      "O30      1   1\n",
      "Entropy = 9.50977500433\n",
      "\n"
     ]
    },
    {
     "data": {
      "text/html": [
       "<h3>Pat</h3>"
      ],
      "text/plain": [
       "<IPython.core.display.HTML object>"
      ]
     },
     "metadata": {},
     "output_type": "display_data"
    },
    {
     "name": "stdout",
     "output_type": "stream",
     "text": [
      "      yes  no\n",
      "full    2   4\n",
      "none    0   2\n",
      "some    4   0\n",
      "Entropy = 5.50977500433\n",
      "\n"
     ]
    },
    {
     "data": {
      "text/html": [
       "<h3>Res</h3>"
      ],
      "text/plain": [
       "<IPython.core.display.HTML object>"
      ]
     },
     "metadata": {},
     "output_type": "display_data"
    },
    {
     "name": "stdout",
     "output_type": "stream",
     "text": [
      "     yes  no\n",
      "no     3   4\n",
      "yes    3   2\n",
      "Entropy = 11.7513499245\n",
      "\n"
     ]
    },
    {
     "data": {
      "text/html": [
       "<h3>Hun</h3>"
      ],
      "text/plain": [
       "<IPython.core.display.HTML object>"
      ]
     },
     "metadata": {},
     "output_type": "display_data"
    },
    {
     "name": "stdout",
     "output_type": "stream",
     "text": [
      "     yes  no\n",
      "no     1   4\n",
      "yes    5   2\n",
      "Entropy = 9.6514844544\n",
      "\n"
     ]
    },
    {
     "data": {
      "text/html": [
       "<h3>Rain</h3>"
      ],
      "text/plain": [
       "<IPython.core.display.HTML object>"
      ]
     },
     "metadata": {},
     "output_type": "display_data"
    },
    {
     "name": "stdout",
     "output_type": "stream",
     "text": [
      "     yes  no\n",
      "no     4   4\n",
      "yes    2   2\n",
      "Entropy = 12.0\n",
      "\n"
     ]
    },
    {
     "data": {
      "text/html": [
       "<h3>Price</h3>"
      ],
      "text/plain": [
       "<IPython.core.display.HTML object>"
      ]
     },
     "metadata": {},
     "output_type": "display_data"
    },
    {
     "name": "stdout",
     "output_type": "stream",
     "text": [
      "   yes  no\n",
      "1    3   4\n",
      "2    2   0\n",
      "3    1   2\n",
      "Entropy = 9.6514844544\n",
      "\n"
     ]
    },
    {
     "data": {
      "text/html": [
       "<h3>Bar</h3>"
      ],
      "text/plain": [
       "<IPython.core.display.HTML object>"
      ]
     },
     "metadata": {},
     "output_type": "display_data"
    },
    {
     "name": "stdout",
     "output_type": "stream",
     "text": [
      "     yes  no\n",
      "no     3   3\n",
      "yes    3   3\n",
      "Entropy = 12.0\n",
      "\n"
     ]
    },
    {
     "data": {
      "text/html": [
       "<h3>Alt</h3>"
      ],
      "text/plain": [
       "<IPython.core.display.HTML object>"
      ]
     },
     "metadata": {},
     "output_type": "display_data"
    },
    {
     "name": "stdout",
     "output_type": "stream",
     "text": [
      "     yes  no\n",
      "no     3   3\n",
      "yes    3   3\n",
      "Entropy = 12.0\n",
      "\n"
     ]
    },
    {
     "data": {
      "text/html": [
       "<h3>Type</h3>"
      ],
      "text/plain": [
       "<IPython.core.display.HTML object>"
      ]
     },
     "metadata": {},
     "output_type": "display_data"
    },
    {
     "name": "stdout",
     "output_type": "stream",
     "text": [
      "         yes  no\n",
      "burger     2   2\n",
      "french     1   1\n",
      "italian    1   1\n",
      "thai       2   2\n",
      "Entropy = 12.0\n",
      "\n"
     ]
    },
    {
     "data": {
      "text/html": [
       "<h3>Fri</h3>"
      ],
      "text/plain": [
       "<IPython.core.display.HTML object>"
      ]
     },
     "metadata": {},
     "output_type": "display_data"
    },
    {
     "name": "stdout",
     "output_type": "stream",
     "text": [
      "     yes  no\n",
      "no     4   3\n",
      "yes    2   3\n",
      "Entropy = 11.7513499245\n",
      "\n"
     ]
    }
   ],
   "source": [
    "display_entropy(data)"
   ]
  },
  {
   "cell_type": "markdown",
   "metadata": {},
   "source": [
    "## Next step\n",
    "\n",
    "Minimum Entropy is for Pat. \n",
    "Pat = some and Pat = None produces leafs.. so we check for pat = full"
   ]
  },
  {
   "cell_type": "code",
   "execution_count": 84,
   "metadata": {
    "collapsed": false
   },
   "outputs": [
    {
     "data": {
      "text/html": [
       "<div style=\"max-height:1000px;max-width:1500px;overflow:auto;\">\n",
       "<table border=\"1\" class=\"dataframe\">\n",
       "  <thead>\n",
       "    <tr style=\"text-align: right;\">\n",
       "      <th></th>\n",
       "      <th>Alt</th>\n",
       "      <th>Bar</th>\n",
       "      <th>Fri</th>\n",
       "      <th>Hun</th>\n",
       "      <th>Price</th>\n",
       "      <th>Rain</th>\n",
       "      <th>Res</th>\n",
       "      <th>Type</th>\n",
       "      <th>Est</th>\n",
       "      <th>Stay?</th>\n",
       "    </tr>\n",
       "  </thead>\n",
       "  <tbody>\n",
       "    <tr>\n",
       "      <th>1</th>\n",
       "      <td>yes</td>\n",
       "      <td>no</td>\n",
       "      <td>no</td>\n",
       "      <td>yes</td>\n",
       "      <td>1</td>\n",
       "      <td>no</td>\n",
       "      <td>no</td>\n",
       "      <td>thai</td>\n",
       "      <td>30-60</td>\n",
       "      <td>no</td>\n",
       "    </tr>\n",
       "    <tr>\n",
       "      <th>3</th>\n",
       "      <td>yes</td>\n",
       "      <td>no</td>\n",
       "      <td>yes</td>\n",
       "      <td>yes</td>\n",
       "      <td>1</td>\n",
       "      <td>no</td>\n",
       "      <td>no</td>\n",
       "      <td>thai</td>\n",
       "      <td>O30</td>\n",
       "      <td>yes</td>\n",
       "    </tr>\n",
       "    <tr>\n",
       "      <th>4</th>\n",
       "      <td>yes</td>\n",
       "      <td>no</td>\n",
       "      <td>yes</td>\n",
       "      <td>no</td>\n",
       "      <td>3</td>\n",
       "      <td>no</td>\n",
       "      <td>yes</td>\n",
       "      <td>french</td>\n",
       "      <td>&gt;60</td>\n",
       "      <td>no</td>\n",
       "    </tr>\n",
       "    <tr>\n",
       "      <th>8</th>\n",
       "      <td>no</td>\n",
       "      <td>yes</td>\n",
       "      <td>yes</td>\n",
       "      <td>no</td>\n",
       "      <td>1</td>\n",
       "      <td>yes</td>\n",
       "      <td>no</td>\n",
       "      <td>burger</td>\n",
       "      <td>&gt;60</td>\n",
       "      <td>no</td>\n",
       "    </tr>\n",
       "    <tr>\n",
       "      <th>9</th>\n",
       "      <td>yes</td>\n",
       "      <td>yes</td>\n",
       "      <td>yes</td>\n",
       "      <td>yes</td>\n",
       "      <td>3</td>\n",
       "      <td>no</td>\n",
       "      <td>yes</td>\n",
       "      <td>italian</td>\n",
       "      <td>O30</td>\n",
       "      <td>no</td>\n",
       "    </tr>\n",
       "    <tr>\n",
       "      <th>11</th>\n",
       "      <td>yes</td>\n",
       "      <td>yes</td>\n",
       "      <td>yes</td>\n",
       "      <td>yes</td>\n",
       "      <td>1</td>\n",
       "      <td>no</td>\n",
       "      <td>no</td>\n",
       "      <td>burger</td>\n",
       "      <td>30-60</td>\n",
       "      <td>yes</td>\n",
       "    </tr>\n",
       "  </tbody>\n",
       "</table>\n",
       "</div>"
      ],
      "text/plain": [
       "    Alt  Bar  Fri  Hun  Price Rain  Res     Type    Est Stay?\n",
       "1   yes   no   no  yes      1   no   no     thai  30-60    no\n",
       "3   yes   no  yes  yes      1   no   no     thai    O30   yes\n",
       "4   yes   no  yes   no      3   no  yes   french    >60    no\n",
       "8    no  yes  yes   no      1  yes   no   burger    >60    no\n",
       "9   yes  yes  yes  yes      3   no  yes  italian    O30    no\n",
       "11  yes  yes  yes  yes      1   no   no   burger  30-60   yes"
      ]
     },
     "execution_count": 84,
     "metadata": {},
     "output_type": "execute_result"
    }
   ],
   "source": [
    "data = data[data.Pat == \"full\"]\n",
    "# remove the data column\n",
    "data = data.drop('Pat', 1)\n",
    "data"
   ]
  },
  {
   "cell_type": "code",
   "execution_count": 85,
   "metadata": {
    "collapsed": false
   },
   "outputs": [
    {
     "data": {
      "text/html": [
       "<h3>Est</h3>"
      ],
      "text/plain": [
       "<IPython.core.display.HTML object>"
      ]
     },
     "metadata": {},
     "output_type": "display_data"
    },
    {
     "name": "stdout",
     "output_type": "stream",
     "text": [
      "       yes  no\n",
      "30-60    1   1\n",
      ">60      0   2\n",
      "O30      1   1\n",
      "Entropy = 4.0\n",
      "\n"
     ]
    },
    {
     "data": {
      "text/html": [
       "<h3>Bar</h3>"
      ],
      "text/plain": [
       "<IPython.core.display.HTML object>"
      ]
     },
     "metadata": {},
     "output_type": "display_data"
    },
    {
     "name": "stdout",
     "output_type": "stream",
     "text": [
      "     yes  no\n",
      "no     1   2\n",
      "yes    1   2\n",
      "Entropy = 5.50977500433\n",
      "\n"
     ]
    },
    {
     "data": {
      "text/html": [
       "<h3>Res</h3>"
      ],
      "text/plain": [
       "<IPython.core.display.HTML object>"
      ]
     },
     "metadata": {},
     "output_type": "display_data"
    },
    {
     "name": "stdout",
     "output_type": "stream",
     "text": [
      "     yes  no\n",
      "no     2   2\n",
      "yes    0   2\n",
      "Entropy = 4.0\n",
      "\n"
     ]
    },
    {
     "data": {
      "text/html": [
       "<h3>Hun</h3>"
      ],
      "text/plain": [
       "<IPython.core.display.HTML object>"
      ]
     },
     "metadata": {},
     "output_type": "display_data"
    },
    {
     "name": "stdout",
     "output_type": "stream",
     "text": [
      "     yes  no\n",
      "no     0   2\n",
      "yes    2   2\n",
      "Entropy = 4.0\n",
      "\n"
     ]
    },
    {
     "data": {
      "text/html": [
       "<h3>Rain</h3>"
      ],
      "text/plain": [
       "<IPython.core.display.HTML object>"
      ]
     },
     "metadata": {},
     "output_type": "display_data"
    },
    {
     "name": "stdout",
     "output_type": "stream",
     "text": [
      "     yes  no\n",
      "no     2   3\n",
      "yes    0   1\n",
      "Entropy = 4.85475297227\n",
      "\n"
     ]
    },
    {
     "data": {
      "text/html": [
       "<h3>Price</h3>"
      ],
      "text/plain": [
       "<IPython.core.display.HTML object>"
      ]
     },
     "metadata": {},
     "output_type": "display_data"
    },
    {
     "name": "stdout",
     "output_type": "stream",
     "text": [
      "   yes  no\n",
      "1    2   2\n",
      "3    0   2\n",
      "Entropy = 4.0\n",
      "\n"
     ]
    },
    {
     "data": {
      "text/html": [
       "<h3>Alt</h3>"
      ],
      "text/plain": [
       "<IPython.core.display.HTML object>"
      ]
     },
     "metadata": {},
     "output_type": "display_data"
    },
    {
     "name": "stdout",
     "output_type": "stream",
     "text": [
      "     yes  no\n",
      "no     0   1\n",
      "yes    2   3\n",
      "Entropy = 4.85475297227\n",
      "\n"
     ]
    },
    {
     "data": {
      "text/html": [
       "<h3>Type</h3>"
      ],
      "text/plain": [
       "<IPython.core.display.HTML object>"
      ]
     },
     "metadata": {},
     "output_type": "display_data"
    },
    {
     "name": "stdout",
     "output_type": "stream",
     "text": [
      "         yes  no\n",
      "burger     1   1\n",
      "french     0   1\n",
      "italian    0   1\n",
      "thai       1   1\n",
      "Entropy = 4.0\n",
      "\n"
     ]
    },
    {
     "data": {
      "text/html": [
       "<h3>Fri</h3>"
      ],
      "text/plain": [
       "<IPython.core.display.HTML object>"
      ]
     },
     "metadata": {},
     "output_type": "display_data"
    },
    {
     "name": "stdout",
     "output_type": "stream",
     "text": [
      "     yes  no\n",
      "no     0   1\n",
      "yes    2   3\n",
      "Entropy = 4.85475297227\n",
      "\n"
     ]
    }
   ],
   "source": [
    "display_entropy(data)"
   ]
  },
  {
   "cell_type": "markdown",
   "metadata": {},
   "source": [
    "Minimum entropy is for Type, Price, Hun, Res and Est\n",
    "\n",
    "We split by Hungry arbitrarily. Hung =no gives leaf node. We split now for Hun = yes"
   ]
  },
  {
   "cell_type": "code",
   "execution_count": 86,
   "metadata": {
    "collapsed": false
   },
   "outputs": [
    {
     "data": {
      "text/html": [
       "<div style=\"max-height:1000px;max-width:1500px;overflow:auto;\">\n",
       "<table border=\"1\" class=\"dataframe\">\n",
       "  <thead>\n",
       "    <tr style=\"text-align: right;\">\n",
       "      <th></th>\n",
       "      <th>Alt</th>\n",
       "      <th>Bar</th>\n",
       "      <th>Fri</th>\n",
       "      <th>Price</th>\n",
       "      <th>Rain</th>\n",
       "      <th>Res</th>\n",
       "      <th>Type</th>\n",
       "      <th>Est</th>\n",
       "      <th>Stay?</th>\n",
       "    </tr>\n",
       "  </thead>\n",
       "  <tbody>\n",
       "    <tr>\n",
       "      <th>1</th>\n",
       "      <td>yes</td>\n",
       "      <td>no</td>\n",
       "      <td>no</td>\n",
       "      <td>1</td>\n",
       "      <td>no</td>\n",
       "      <td>no</td>\n",
       "      <td>thai</td>\n",
       "      <td>30-60</td>\n",
       "      <td>no</td>\n",
       "    </tr>\n",
       "    <tr>\n",
       "      <th>3</th>\n",
       "      <td>yes</td>\n",
       "      <td>no</td>\n",
       "      <td>yes</td>\n",
       "      <td>1</td>\n",
       "      <td>no</td>\n",
       "      <td>no</td>\n",
       "      <td>thai</td>\n",
       "      <td>O30</td>\n",
       "      <td>yes</td>\n",
       "    </tr>\n",
       "    <tr>\n",
       "      <th>9</th>\n",
       "      <td>yes</td>\n",
       "      <td>yes</td>\n",
       "      <td>yes</td>\n",
       "      <td>3</td>\n",
       "      <td>no</td>\n",
       "      <td>yes</td>\n",
       "      <td>italian</td>\n",
       "      <td>O30</td>\n",
       "      <td>no</td>\n",
       "    </tr>\n",
       "    <tr>\n",
       "      <th>11</th>\n",
       "      <td>yes</td>\n",
       "      <td>yes</td>\n",
       "      <td>yes</td>\n",
       "      <td>1</td>\n",
       "      <td>no</td>\n",
       "      <td>no</td>\n",
       "      <td>burger</td>\n",
       "      <td>30-60</td>\n",
       "      <td>yes</td>\n",
       "    </tr>\n",
       "  </tbody>\n",
       "</table>\n",
       "</div>"
      ],
      "text/plain": [
       "    Alt  Bar  Fri  Price Rain  Res     Type    Est Stay?\n",
       "1   yes   no   no      1   no   no     thai  30-60    no\n",
       "3   yes   no  yes      1   no   no     thai    O30   yes\n",
       "9   yes  yes  yes      3   no  yes  italian    O30    no\n",
       "11  yes  yes  yes      1   no   no   burger  30-60   yes"
      ]
     },
     "execution_count": 86,
     "metadata": {},
     "output_type": "execute_result"
    }
   ],
   "source": [
    "data = data[data.Hun == \"yes\"]\n",
    "# remove the data column\n",
    "data = data.drop('Hun', 1)\n",
    "data"
   ]
  },
  {
   "cell_type": "code",
   "execution_count": 87,
   "metadata": {
    "collapsed": false
   },
   "outputs": [
    {
     "data": {
      "text/html": [
       "<h3>Est</h3>"
      ],
      "text/plain": [
       "<IPython.core.display.HTML object>"
      ]
     },
     "metadata": {},
     "output_type": "display_data"
    },
    {
     "name": "stdout",
     "output_type": "stream",
     "text": [
      "       yes  no\n",
      "30-60    1   1\n",
      "O30      1   1\n",
      "Entropy = 4.0\n",
      "\n"
     ]
    },
    {
     "data": {
      "text/html": [
       "<h3>Bar</h3>"
      ],
      "text/plain": [
       "<IPython.core.display.HTML object>"
      ]
     },
     "metadata": {},
     "output_type": "display_data"
    },
    {
     "name": "stdout",
     "output_type": "stream",
     "text": [
      "     yes  no\n",
      "no     1   1\n",
      "yes    1   1\n",
      "Entropy = 4.0\n",
      "\n"
     ]
    },
    {
     "data": {
      "text/html": [
       "<h3>Res</h3>"
      ],
      "text/plain": [
       "<IPython.core.display.HTML object>"
      ]
     },
     "metadata": {},
     "output_type": "display_data"
    },
    {
     "name": "stdout",
     "output_type": "stream",
     "text": [
      "     yes  no\n",
      "no     2   1\n",
      "yes    0   1\n",
      "Entropy = 2.75488750216\n",
      "\n"
     ]
    },
    {
     "data": {
      "text/html": [
       "<h3>Fri</h3>"
      ],
      "text/plain": [
       "<IPython.core.display.HTML object>"
      ]
     },
     "metadata": {},
     "output_type": "display_data"
    },
    {
     "name": "stdout",
     "output_type": "stream",
     "text": [
      "     yes  no\n",
      "no     0   1\n",
      "yes    2   1\n",
      "Entropy = 2.75488750216\n",
      "\n"
     ]
    },
    {
     "data": {
      "text/html": [
       "<h3>Rain</h3>"
      ],
      "text/plain": [
       "<IPython.core.display.HTML object>"
      ]
     },
     "metadata": {},
     "output_type": "display_data"
    },
    {
     "name": "stdout",
     "output_type": "stream",
     "text": [
      "    yes  no\n",
      "no    2   2\n",
      "Entropy = 4.0\n",
      "\n"
     ]
    },
    {
     "data": {
      "text/html": [
       "<h3>Alt</h3>"
      ],
      "text/plain": [
       "<IPython.core.display.HTML object>"
      ]
     },
     "metadata": {},
     "output_type": "display_data"
    },
    {
     "name": "stdout",
     "output_type": "stream",
     "text": [
      "     yes  no\n",
      "yes    2   2\n",
      "Entropy = 4.0\n",
      "\n"
     ]
    },
    {
     "data": {
      "text/html": [
       "<h3>Type</h3>"
      ],
      "text/plain": [
       "<IPython.core.display.HTML object>"
      ]
     },
     "metadata": {},
     "output_type": "display_data"
    },
    {
     "name": "stdout",
     "output_type": "stream",
     "text": [
      "         yes  no\n",
      "burger     1   0\n",
      "italian    0   1\n",
      "thai       1   1\n",
      "Entropy = 2.0\n",
      "\n"
     ]
    },
    {
     "data": {
      "text/html": [
       "<h3>Price</h3>"
      ],
      "text/plain": [
       "<IPython.core.display.HTML object>"
      ]
     },
     "metadata": {},
     "output_type": "display_data"
    },
    {
     "name": "stdout",
     "output_type": "stream",
     "text": [
      "   yes  no\n",
      "1    2   1\n",
      "3    0   1\n",
      "Entropy = 2.75488750216\n",
      "\n"
     ]
    }
   ],
   "source": [
    "display_entropy(data)"
   ]
  },
  {
   "cell_type": "markdown",
   "metadata": {},
   "source": [
    "Minimum entropy is Type,\n",
    "\n",
    "Type = burger and type = italian gives leaf node. We calculate entropies for type = thai."
   ]
  },
  {
   "cell_type": "code",
   "execution_count": 89,
   "metadata": {
    "collapsed": false
   },
   "outputs": [
    {
     "data": {
      "text/html": [
       "<div style=\"max-height:1000px;max-width:1500px;overflow:auto;\">\n",
       "<table border=\"1\" class=\"dataframe\">\n",
       "  <thead>\n",
       "    <tr style=\"text-align: right;\">\n",
       "      <th></th>\n",
       "      <th>Alt</th>\n",
       "      <th>Bar</th>\n",
       "      <th>Fri</th>\n",
       "      <th>Price</th>\n",
       "      <th>Rain</th>\n",
       "      <th>Res</th>\n",
       "      <th>Est</th>\n",
       "      <th>Stay?</th>\n",
       "    </tr>\n",
       "  </thead>\n",
       "  <tbody>\n",
       "    <tr>\n",
       "      <th>1</th>\n",
       "      <td>yes</td>\n",
       "      <td>no</td>\n",
       "      <td>no</td>\n",
       "      <td>1</td>\n",
       "      <td>no</td>\n",
       "      <td>no</td>\n",
       "      <td>30-60</td>\n",
       "      <td>no</td>\n",
       "    </tr>\n",
       "    <tr>\n",
       "      <th>3</th>\n",
       "      <td>yes</td>\n",
       "      <td>no</td>\n",
       "      <td>yes</td>\n",
       "      <td>1</td>\n",
       "      <td>no</td>\n",
       "      <td>no</td>\n",
       "      <td>O30</td>\n",
       "      <td>yes</td>\n",
       "    </tr>\n",
       "  </tbody>\n",
       "</table>\n",
       "</div>"
      ],
      "text/plain": [
       "   Alt Bar  Fri  Price Rain Res    Est Stay?\n",
       "1  yes  no   no      1   no  no  30-60    no\n",
       "3  yes  no  yes      1   no  no    O30   yes"
      ]
     },
     "execution_count": 89,
     "metadata": {},
     "output_type": "execute_result"
    }
   ],
   "source": [
    "data = data[data.Type == \"thai\"]\n",
    "# remove the data column\n",
    "data = data.drop('Type', 1)\n",
    "data"
   ]
  },
  {
   "cell_type": "code",
   "execution_count": 90,
   "metadata": {
    "collapsed": false
   },
   "outputs": [
    {
     "data": {
      "text/html": [
       "<h3>Est</h3>"
      ],
      "text/plain": [
       "<IPython.core.display.HTML object>"
      ]
     },
     "metadata": {},
     "output_type": "display_data"
    },
    {
     "name": "stdout",
     "output_type": "stream",
     "text": [
      "       yes  no\n",
      "30-60    0   1\n",
      "O30      1   0\n",
      "Entropy = 0\n",
      "\n"
     ]
    },
    {
     "data": {
      "text/html": [
       "<h3>Bar</h3>"
      ],
      "text/plain": [
       "<IPython.core.display.HTML object>"
      ]
     },
     "metadata": {},
     "output_type": "display_data"
    },
    {
     "name": "stdout",
     "output_type": "stream",
     "text": [
      "    yes  no\n",
      "no    1   1\n",
      "Entropy = 2.0\n",
      "\n"
     ]
    },
    {
     "data": {
      "text/html": [
       "<h3>Res</h3>"
      ],
      "text/plain": [
       "<IPython.core.display.HTML object>"
      ]
     },
     "metadata": {},
     "output_type": "display_data"
    },
    {
     "name": "stdout",
     "output_type": "stream",
     "text": [
      "    yes  no\n",
      "no    1   1\n",
      "Entropy = 2.0\n",
      "\n"
     ]
    },
    {
     "data": {
      "text/html": [
       "<h3>Fri</h3>"
      ],
      "text/plain": [
       "<IPython.core.display.HTML object>"
      ]
     },
     "metadata": {},
     "output_type": "display_data"
    },
    {
     "name": "stdout",
     "output_type": "stream",
     "text": [
      "     yes  no\n",
      "no     0   1\n",
      "yes    1   0\n",
      "Entropy = 0\n",
      "\n"
     ]
    },
    {
     "data": {
      "text/html": [
       "<h3>Rain</h3>"
      ],
      "text/plain": [
       "<IPython.core.display.HTML object>"
      ]
     },
     "metadata": {},
     "output_type": "display_data"
    },
    {
     "name": "stdout",
     "output_type": "stream",
     "text": [
      "    yes  no\n",
      "no    1   1\n",
      "Entropy = 2.0\n",
      "\n"
     ]
    },
    {
     "data": {
      "text/html": [
       "<h3>Alt</h3>"
      ],
      "text/plain": [
       "<IPython.core.display.HTML object>"
      ]
     },
     "metadata": {},
     "output_type": "display_data"
    },
    {
     "name": "stdout",
     "output_type": "stream",
     "text": [
      "     yes  no\n",
      "yes    1   1\n",
      "Entropy = 2.0\n",
      "\n"
     ]
    },
    {
     "data": {
      "text/html": [
       "<h3>Price</h3>"
      ],
      "text/plain": [
       "<IPython.core.display.HTML object>"
      ]
     },
     "metadata": {},
     "output_type": "display_data"
    },
    {
     "name": "stdout",
     "output_type": "stream",
     "text": [
      "   yes  no\n",
      "1    1   1\n",
      "Entropy = 2.0\n",
      "\n"
     ]
    }
   ],
   "source": [
    "display_entropy(data)"
   ]
  },
  {
   "cell_type": "markdown",
   "metadata": {},
   "source": [
    "Minimum Entropy is Fri, we split on Fri to get two leaf nodes... Thus, constructing an extremely overfitted decision tree."
   ]
  }
 ],
 "metadata": {
  "kernelspec": {
   "display_name": "Python 2",
   "language": "python",
   "name": "python2"
  },
  "language_info": {
   "codemirror_mode": {
    "name": "ipython",
    "version": 2
   },
   "file_extension": ".py",
   "mimetype": "text/x-python",
   "name": "python",
   "nbconvert_exporter": "python",
   "pygments_lexer": "ipython2",
   "version": "2.7.6"
  }
 },
 "nbformat": 4,
 "nbformat_minor": 0
}
